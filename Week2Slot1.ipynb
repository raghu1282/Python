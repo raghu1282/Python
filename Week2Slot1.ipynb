{
 "cells": [
  {
   "cell_type": "code",
   "execution_count": 1,
   "id": "37f588c7-eba7-428a-b5a3-fb1cd2155158",
   "metadata": {},
   "outputs": [
    {
     "name": "stdin",
     "output_type": "stream",
     "text": [
      "Enter the number: 5\n",
      "Enter the number: 5\n"
     ]
    },
    {
     "name": "stdout",
     "output_type": "stream",
     "text": [
      "12.5\n"
     ]
    }
   ],
   "source": [
    "base= int(input(\"Enter the number:\"))\n",
    "height = int(input(\"Enter the number:\"))\n",
    "area = (1/2)*base*height\n",
    "print(area)"
   ]
  },
  {
   "cell_type": "code",
   "execution_count": null,
   "id": "7a2cc68d-80bc-460b-8a4a-e1b18b5bf39f",
   "metadata": {},
   "outputs": [],
   "source": [
    "if condition:\n",
    "    statement\n",
    "else:\n",
    "    statement"
   ]
  },
  {
   "cell_type": "code",
   "execution_count": null,
   "id": "55722f2b-bfdc-4e40-9436-f9b7facea0f1",
   "metadata": {},
   "outputs": [],
   "source": [
    "if codition:\n",
    "    statement\n",
    "elif condition:"
   ]
  }
 ],
 "metadata": {
  "kernelspec": {
   "display_name": "Python 3 (ipykernel)",
   "language": "python",
   "name": "python3"
  },
  "language_info": {
   "codemirror_mode": {
    "name": "ipython",
    "version": 3
   },
   "file_extension": ".py",
   "mimetype": "text/x-python",
   "name": "python",
   "nbconvert_exporter": "python",
   "pygments_lexer": "ipython3",
   "version": "3.13.5"
  }
 },
 "nbformat": 4,
 "nbformat_minor": 5
}
