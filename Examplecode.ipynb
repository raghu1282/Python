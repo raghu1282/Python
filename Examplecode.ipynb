{
  "nbformat": 4,
  "nbformat_minor": 0,
  "metadata": {
    "colab": {
      "provenance": [],
      "authorship_tag": "ABX9TyMAEgEPvW0XvDx0had2UFj/",
      "include_colab_link": true
    },
    "kernelspec": {
      "name": "python3",
      "display_name": "Python 3"
    },
    "language_info": {
      "name": "python"
    }
  },
  "cells": [
    {
      "cell_type": "markdown",
      "metadata": {
        "id": "view-in-github",
        "colab_type": "text"
      },
      "source": [
        "<a href=\"https://colab.research.google.com/github/raghu1282/Python/blob/main/Examplecode.ipynb\" target=\"_parent\"><img src=\"https://colab.research.google.com/assets/colab-badge.svg\" alt=\"Open In Colab\"/></a>"
      ]
    },
    {
      "cell_type": "code",
      "execution_count": 5,
      "metadata": {
        "colab": {
          "base_uri": "https://localhost:8080/"
        },
        "id": "a0hnWefflMNr",
        "outputId": "3a6bd24a-0f97-4216-9423-45567ff7de3a"
      },
      "outputs": [
        {
          "output_type": "stream",
          "name": "stdout",
          "text": [
            "Enter number:153\n",
            "Armstrong\n"
          ]
        }
      ],
      "source": [
        "intputnum = input(\"Enter number:\")\n",
        "lenNumber = len(str(intputnum))\n",
        "numbervalue = int(intputnum)\n",
        "result =0\n",
        "for i in intputnum:\n",
        "    result += int(i)**lenNumber\n",
        "\n",
        "if result == numbervalue:\n",
        "  print(\"Armstrong\")\n",
        "else:\n",
        "  print(\"Not Armstrong\")\n"
      ]
    },
    {
      "cell_type": "code",
      "source": [
        "15%10"
      ],
      "metadata": {
        "colab": {
          "base_uri": "https://localhost:8080/"
        },
        "id": "MAxa-awnl9uK",
        "outputId": "c279299d-2cf2-4825-ec37-a97a1aefbc05"
      },
      "execution_count": 11,
      "outputs": [
        {
          "output_type": "execute_result",
          "data": {
            "text/plain": [
              "5"
            ]
          },
          "metadata": {},
          "execution_count": 11
        }
      ]
    },
    {
      "cell_type": "code",
      "source": [
        "intputnum = input(\"Enter number:\")\n",
        "lenNumber = len(str(intputnum))\n",
        "numbervalue = int(intputnum)\n",
        "result =0\n",
        "for i in intputnum:\n",
        "    result += int(i)**(intputnum.find(i) +1)\n",
        "    print(result)\n",
        "\n",
        "if result == numbervalue:\n",
        "  print(\"Disarium Number\")\n",
        "else:\n",
        "  print(\"Not Disarium\")"
      ],
      "metadata": {
        "colab": {
          "base_uri": "https://localhost:8080/"
        },
        "id": "hA89maPKonq7",
        "outputId": "d6e16483-5fa0-4062-c66f-1fefa6b0d05e"
      },
      "execution_count": 17,
      "outputs": [
        {
          "output_type": "stream",
          "name": "stdout",
          "text": [
            "Enter number:175\n",
            "1\n",
            "50\n",
            "175\n",
            "Disarium Number\n"
          ]
        }
      ]
    },
    {
      "cell_type": "code",
      "source": [],
      "metadata": {
        "id": "tjKmP4NArnAo"
      },
      "execution_count": null,
      "outputs": []
    }
  ]
}